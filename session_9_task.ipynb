{
  "nbformat": 4,
  "nbformat_minor": 0,
  "metadata": {
    "colab": {
      "provenance": [],
      "collapsed_sections": [
        "BCleRtX43caS",
        "KBbGNTtQ47mJ",
        "ExIxsv4y-oEd",
        "OcQhJvXVALgp",
        "sEsGEqOHCSWG",
        "v1M5Yh9ZZO0z"
      ]
    },
    "kernelspec": {
      "name": "python3",
      "display_name": "Python 3"
    },
    "language_info": {
      "name": "python"
    }
  },
  "cells": [
    {
      "cell_type": "markdown",
      "source": [
        "### `Problem-1:` Class inheritence\n",
        "\n",
        "Create a **Bus** child class that inherits from the Vehicle class. The default fare charge of any vehicle is seating capacity * 100. If Vehicle is Bus instance, we need to add an extra 10% on full fare as a maintenance charge. So total fare for bus instance will become the final amount = total fare + 10% of the total fare.\n",
        "\n",
        "Note: The bus seating capacity is 50. so the final fare amount should be 5500. You need to override the fare() method of a Vehicle class in Bus class."
      ],
      "metadata": {
        "id": "BCleRtX43caS"
      }
    },
    {
      "cell_type": "code",
      "execution_count": 12,
      "metadata": {
        "id": "6jVFCXKz3YZI"
      },
      "outputs": [],
      "source": [
        "# Write code here\n",
        "class vehicale:\n",
        "  def __init__(self,capacity):\n",
        "    self.capacity = capacity\n",
        "\n",
        "  def fare(self):\n",
        "    return self.capacity*100\n",
        "\n",
        "class bus(vehicale):\n",
        "  def fare(self):\n",
        "    return super().fare()+super().fare()*0.1"
      ]
    },
    {
      "cell_type": "code",
      "source": [
        "b = bus(50)\n",
        "b.fare()\n"
      ],
      "metadata": {
        "id": "K0EiYlKm8OSm",
        "outputId": "b2fe0e8d-bc7b-4fe0-c49f-0e7fc2370327",
        "colab": {
          "base_uri": "https://localhost:8080/"
        }
      },
      "execution_count": 13,
      "outputs": [
        {
          "output_type": "execute_result",
          "data": {
            "text/plain": [
              "5500.0"
            ]
          },
          "metadata": {},
          "execution_count": 13
        }
      ]
    },
    {
      "cell_type": "markdown",
      "source": [
        "### `Problem-2:` Class Inheritence\n",
        "\n",
        "Create a Bus class that inherits from the Vehicle class. Give the capacity argument of *Bus.seating_capacity()* a default value of 50.\n",
        "\n",
        "Use the following code for your parent Vehicle class."
      ],
      "metadata": {
        "id": "KBbGNTtQ47mJ"
      }
    },
    {
      "cell_type": "code",
      "source": [
        "# Write code here\n",
        "class vehicale:\n",
        "  def __init__(self,capacity=50):\n",
        "    self.capacity = capacity\n",
        "\n",
        "  def fare(self):\n",
        "    return self.capacity*100\n",
        "\n",
        "  def seating_capacity(self):\n",
        "    return self.capacity\n",
        "\n",
        "\n",
        "\n",
        "class bus(vehicale):\n",
        "  def fare(self):\n",
        "    return super().fare()+super().fare()*0.1"
      ],
      "metadata": {
        "id": "MwOnYE_14M-r"
      },
      "execution_count": 17,
      "outputs": []
    },
    {
      "cell_type": "code",
      "source": [
        "Bus = bus()\n",
        "Bus.seating_capacity()"
      ],
      "metadata": {
        "id": "Py5Gr0ip5OBB",
        "outputId": "4d1ad932-7798-416c-c7f6-40e333b20e3c",
        "colab": {
          "base_uri": "https://localhost:8080/"
        }
      },
      "execution_count": 18,
      "outputs": [
        {
          "output_type": "execute_result",
          "data": {
            "text/plain": [
              "50"
            ]
          },
          "metadata": {},
          "execution_count": 18
        }
      ]
    },
    {
      "cell_type": "markdown",
      "source": [
        "### `Problem-3:` Write a program that has a class Point. Define another class Location which has two objects (Location & Destination) of class Point. Also define a function in Location that prints the reflection of Destination on the x axis."
      ],
      "metadata": {
        "id": "ExIxsv4y-oEd"
      }
    },
    {
      "cell_type": "code",
      "source": [
        "class point:\n",
        "  def __init__(self,x,y):\n",
        "    self.x  = x\n",
        "    self.y = y\n",
        "\n",
        "\n",
        "class location:\n",
        "  def __init__(self,loc,dis):\n",
        "    self.loc = loc\n",
        "    self.dis = dis\n",
        "\n",
        "  def dis_reflection(self):\n",
        "    r_point = point(self.dis.x , -self.dis.y)\n",
        "    print(f\"Reflection of Destination on the x-axis: ({r_point.x}, {r_point.y})\")\n"
      ],
      "metadata": {
        "id": "yT2QtzQp5VAB"
      },
      "execution_count": 19,
      "outputs": []
    },
    {
      "cell_type": "code",
      "source": [
        "loc = point(3,4)\n",
        "dis = point(4,3)\n",
        "l = location(loc,dis)\n",
        "l.dis_reflection()"
      ],
      "metadata": {
        "id": "gRO00hW4BAQr",
        "outputId": "8e25b56d-dbe6-4082-9575-8f91b3df2815",
        "colab": {
          "base_uri": "https://localhost:8080/"
        }
      },
      "execution_count": 20,
      "outputs": [
        {
          "output_type": "stream",
          "name": "stdout",
          "text": [
            "Reflection of Destination on the x-axis: (4, -3)\n"
          ]
        }
      ]
    },
    {
      "cell_type": "markdown",
      "source": [
        "### `Problem-4:` Write a program that has an abstract class Polygon. Derive two classes Rectangle and Triamgle from Polygon and write methods to get the details of their dimensions and hence calculate the area."
      ],
      "metadata": {
        "id": "OcQhJvXVALgp"
      }
    },
    {
      "cell_type": "code",
      "source": [
        "from abc import ABC, abstractmethod\n",
        "\n",
        "\n",
        "class Polygon(ABC):\n",
        "  def __init__(self):\n",
        "    pass\n",
        "\n",
        "  @abstractmethod\n",
        "  def get_dimension(self):\n",
        "    pass\n",
        "\n",
        "  @abstractmethod\n",
        "\n",
        "  def cal_area(self):\n",
        "    pass\n",
        "\n",
        "\n",
        "\n",
        "\n",
        "class Rectangle(Polygon):\n",
        "\n",
        "  def __init__(self):\n",
        "    self.length = 0\n",
        "    self.width = 0\n",
        "\n",
        "  def get_dimension(self):\n",
        "    self.length = int(input(\"Enter length \"))\n",
        "    self.width = int(input(\"Enter width \"))\n",
        "\n",
        "\n",
        "  def cal_area(self) :\n",
        "    return  self.length*self.width\n",
        "\n",
        "\n",
        "\n",
        "\n",
        "class Triangle(Polygon):\n",
        "  def __init__(self):\n",
        "    self.base = 0\n",
        "    self.height = 0\n",
        "\n",
        "  def get_dimension(self):\n",
        "    self.base = int(input(\"Enter base \"))\n",
        "    self.height = int(input(\"Enter height \"))\n",
        "\n",
        "\n",
        "  def cal_area(self) :\n",
        "    return  0.5*self.base*self.height\n",
        "\n"
      ],
      "metadata": {
        "id": "9IMrtdUH__eA"
      },
      "execution_count": 29,
      "outputs": []
    },
    {
      "cell_type": "code",
      "source": [
        "t = Triangle()\n",
        "t.get_dimension()\n",
        "t.cal_area()"
      ],
      "metadata": {
        "id": "KCvtPFsYA_Pa",
        "outputId": "f630f12a-3de6-43d3-c0e3-adaf7d4d1f51",
        "colab": {
          "base_uri": "https://localhost:8080/"
        }
      },
      "execution_count": 28,
      "outputs": [
        {
          "name": "stdout",
          "output_type": "stream",
          "text": [
            "Enyer base 4\n",
            "Enyer height 5\n"
          ]
        },
        {
          "output_type": "execute_result",
          "data": {
            "text/plain": [
              "10.0"
            ]
          },
          "metadata": {},
          "execution_count": 28
        }
      ]
    },
    {
      "cell_type": "code",
      "source": [
        "r = Rectangle()\n",
        "r.get_dimension()\n",
        "r.cal_area()"
      ],
      "metadata": {
        "id": "K9_b1h_yUP12",
        "outputId": "22891a01-5406-48b5-ced7-b011c9d78d16",
        "colab": {
          "base_uri": "https://localhost:8080/"
        }
      },
      "execution_count": 33,
      "outputs": [
        {
          "name": "stdout",
          "output_type": "stream",
          "text": [
            "Enter length 4\n",
            "Enter width 5\n"
          ]
        },
        {
          "output_type": "execute_result",
          "data": {
            "text/plain": [
              "20"
            ]
          },
          "metadata": {},
          "execution_count": 33
        }
      ]
    },
    {
      "cell_type": "markdown",
      "source": [
        "### `Problem-5:` Write a program with class Bill. The users have the option to pay the bill either by cheque or by cash. Use the inheritance to model this situation."
      ],
      "metadata": {
        "id": "sEsGEqOHCSWG"
      }
    },
    {
      "cell_type": "code",
      "source": [
        "class Bill:\n",
        "  def __init__(self,amount):\n",
        "    self.amount = amount\n",
        "\n",
        "  def pay(self):\n",
        "    pass\n",
        "\n",
        "class cheque(Bill):\n",
        "  def __init__(self,cheque_no,amount):\n",
        "    super().__init__(amount)\n",
        "    self.cheque_no = cheque_no\n",
        "\n",
        "  def pay(self):\n",
        "    return f\"cheque_amount-{self.amount} cheque_no - {self.cheque_no}\"\n",
        "\n",
        "\n",
        "class cash(Bill):\n",
        "  def __init__(self,amount):\n",
        "    super().__init__(amount)\n",
        "\n",
        "\n",
        "  def pay(self):\n",
        "    return f\"cash_amount-{self.amount}\"\n",
        "\n"
      ],
      "metadata": {
        "id": "l0WFyP2PB3nf"
      },
      "execution_count": 39,
      "outputs": []
    },
    {
      "cell_type": "code",
      "source": [
        "c= cash(10000)\n",
        "c.pay()"
      ],
      "metadata": {
        "id": "XBWyma07eV4B",
        "outputId": "8e51acbd-2960-48ee-f472-274073aa1d7b",
        "colab": {
          "base_uri": "https://localhost:8080/",
          "height": 36
        }
      },
      "execution_count": 36,
      "outputs": [
        {
          "output_type": "execute_result",
          "data": {
            "text/plain": [
              "'cash_amount-10000'"
            ],
            "application/vnd.google.colaboratory.intrinsic+json": {
              "type": "string"
            }
          },
          "metadata": {},
          "execution_count": 36
        }
      ]
    },
    {
      "cell_type": "code",
      "source": [
        "ch = cheque(1234,1000)\n",
        "ch.pay()"
      ],
      "metadata": {
        "id": "IhNm_lWQekP2",
        "outputId": "4787093e-8a31-466a-f4eb-3543f31c3b19",
        "colab": {
          "base_uri": "https://localhost:8080/",
          "height": 36
        }
      },
      "execution_count": 41,
      "outputs": [
        {
          "output_type": "execute_result",
          "data": {
            "text/plain": [
              "'cheque_amount-1000 cheque_no - 1234'"
            ],
            "application/vnd.google.colaboratory.intrinsic+json": {
              "type": "string"
            }
          },
          "metadata": {},
          "execution_count": 41
        }
      ]
    },
    {
      "cell_type": "markdown",
      "source": [
        "###`Q-6:` FlexibleDict\n",
        "As of now we are accessing values from dictionary with exact keys. Now we want to amend accessing values functionality. if a dict have key `1` (int) the even if we try to access values by giving `'1'` (1 as str) as key, we should get the same result and vice versa.\n",
        "\n",
        "Write a class `FlexibleDict` upon builtin `dict` class with above required functionality.\n",
        "\n",
        "Hint- `dict[key] => dict.__getitem__(key)`"
      ],
      "metadata": {
        "id": "v1M5Yh9ZZO0z"
      }
    },
    {
      "cell_type": "markdown",
      "source": [
        "Ex.\n",
        "```\n",
        "fd = FlexibleDict()\n",
        "fd['a'] = 100\n",
        "print(fd['a']) # Like regular dict\n",
        "\n",
        "fd[5] = 500\n",
        "print(fd[5]) # Like regular dict\n",
        "\n",
        "fd[1] = 100\n",
        "print(fd['1']) # actual Key is int but still trying to access through str key.\n",
        "fd['1'] = 100\n",
        "print(fd[1])\n",
        "\n",
        "```\n",
        "`Output:`\n",
        "```\n",
        "100\n",
        "500\n",
        "100\n",
        "100\n",
        "\n",
        "```"
      ],
      "metadata": {
        "id": "uajGeWegbfda"
      }
    },
    {
      "cell_type": "code",
      "source": [],
      "metadata": {
        "id": "OHLbOtCxZ2nw"
      },
      "execution_count": null,
      "outputs": []
    },
    {
      "cell_type": "code",
      "source": [],
      "metadata": {
        "id": "7NM8r__dmeMf"
      },
      "execution_count": null,
      "outputs": []
    },
    {
      "cell_type": "code",
      "source": [],
      "metadata": {
        "id": "waHSud8Ymkz-"
      },
      "execution_count": null,
      "outputs": []
    }
  ]
}