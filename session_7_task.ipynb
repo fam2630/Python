{
  "nbformat": 4,
  "nbformat_minor": 0,
  "metadata": {
    "colab": {
      "provenance": []
    },
    "kernelspec": {
      "name": "python3",
      "display_name": "Python 3"
    },
    "language_info": {
      "name": "python"
    }
  },
  "cells": [
    {
      "cell_type": "markdown",
      "source": [
        "##`Q-1:` Rectangle Class\n",
        "1. Write a Rectangle class in Python language, allowing you to build a rectangle with length and width attributes.\n",
        "\n",
        "2. Create a Perimeter() method to calculate the perimeter of the rectangle and a Area() method to calculate the area of ​​the rectangle.\n",
        "\n",
        "3. Create a method display() that display the length, width, perimeter and area of an object created using an instantiation on rectangle class."
      ],
      "metadata": {
        "id": "FyUJ3PRAsPr4"
      }
    },
    {
      "cell_type": "markdown",
      "source": [
        "Eg.\n",
        "After making above classes and methods, on executing below code:-\n",
        "```\n",
        "my_rectangle = Rectangle(3 , 4)\n",
        "my_rectangle.display()\n",
        "```\n",
        "\n",
        "`Output:`\n",
        "```\n",
        "The length of rectangle is:  3\n",
        "The width of rectangle is:  4\n",
        "The perimeter of rectangle is:  14\n",
        "The area of rectangle is:  12\n",
        "```\n"
      ],
      "metadata": {
        "id": "GxUtOqJfssFK"
      }
    },
    {
      "cell_type": "code",
      "source": [
        "# write your code here\n",
        "class Rectangle:\n",
        "\n",
        "  def __init__(self,l,b):\n",
        "    self.__l = l\n",
        "    self.__b = b\n",
        "\n",
        "\n",
        "  def perimeter(self):\n",
        "    peri = 2*(self.__l+self.__b)\n",
        "    print(\"The perimeter of rectangle:\", peri)\n",
        "\n",
        "  def area(self):\n",
        "    ar = self.__l*self.__b\n",
        "    print(\"The area of rectangle is:\",ar)\n",
        "\n",
        "  def length(self):\n",
        "    print(\"The length of rectangle is: \",self.__l)\n",
        "\n",
        "  def width(self):\n",
        "    print(\"The width of rectangle is: \",self.__b)\n",
        "\n"
      ],
      "metadata": {
        "id": "92_QT-Uj6NBg"
      },
      "execution_count": 9,
      "outputs": []
    },
    {
      "cell_type": "code",
      "source": [
        "r = Rectangle(3,4)"
      ],
      "metadata": {
        "id": "clktCTFofLaf"
      },
      "execution_count": 10,
      "outputs": []
    },
    {
      "cell_type": "code",
      "source": [
        "r.length()\n",
        "r.width()\n",
        "r.perimeter()\n",
        "r.area()"
      ],
      "metadata": {
        "id": "CVytvmDAfjfC",
        "outputId": "a935860f-eba8-4707-bc2d-2277c3bfa2de",
        "colab": {
          "base_uri": "https://localhost:8080/"
        }
      },
      "execution_count": 15,
      "outputs": [
        {
          "output_type": "stream",
          "name": "stdout",
          "text": [
            "The length of rectangle is:  3\n",
            "The width of rectangle is:  4\n",
            "The perimeter of rectangle: 14\n",
            "The area of rectangle is: 12\n"
          ]
        }
      ]
    },
    {
      "cell_type": "markdown",
      "source": [
        "##`Q-2: Bank Class`\n",
        "\n",
        "1. Create a Python class called `BankAccount` which represents a bank account, having as attributes: `accountNumber` (numeric type), `name` (name of the account owner as string type), `balance`.\n",
        "2. Create a constructor with parameters: `accountNumber, name, balance`.\n",
        "3. Create a `Deposit()` method which manages the deposit actions.\n",
        "4. Create a `Withdrawal()` method  which manages withdrawals actions.\n",
        "5. Create an `bankFees()` method to apply the bank fees with a percentage of 5% of the balance account.\n",
        "6. Create a `display()` method to display account details.\n",
        "Give the complete code for the  BankAccount class."
      ],
      "metadata": {
        "id": "r_GxrS0Vrdom"
      }
    },
    {
      "cell_type": "markdown",
      "source": [
        "Eg.\n",
        "After making above classes and methods, on executing below code:-\n",
        "```\n",
        "newAccount = BankAccount(2178514584, \"Mandy\" , 2800)\n",
        "\n",
        "newAccount.Withdrawal(700)\n",
        "\n",
        "newAccount.Deposit(1000)\n",
        "\n",
        "newAccount.display()\n",
        "```\n",
        "\n",
        "`Output:`\n",
        "```\n",
        "Account Number :  2178514584\n",
        "Account Name :  Mandy\n",
        "Account Balance :  3100 ₹\n",
        "```"
      ],
      "metadata": {
        "id": "qvVkOUJgvTV_"
      }
    },
    {
      "cell_type": "code",
      "source": [
        "# write your code here\n",
        "\n",
        "class BankAccount:\n",
        "\n",
        "  def __init__(self, account_no, name, balance):\n",
        "    self.__account_no = account_no\n",
        "    self.__name = name\n",
        "    self.__balance = balance\n",
        "\n",
        "\n",
        "\n",
        "  def Deposit(self,credit):\n",
        "    acc_no = int(input(\"Enter account number \"))\n",
        "    if acc_no == self.__account_no:\n",
        "      self.__balance = self.__balance + credit\n",
        "      print(\"your money is credited in your account \")\n",
        "    else:\n",
        "      print(\"Account number does not exits\")\n",
        "\n",
        "  def Withdrawal(self,debit):\n",
        "    acc_no = int(input(\"Enter account number \"))\n",
        "    if acc_no == self.__account_no:\n",
        "      if self.__balance >= debit:\n",
        "        self.__balance = self.__balance - debit\n",
        "        print(\"money is debited in your account \")\n",
        "      else:\n",
        "        print(\"insuffcient amount \")\n",
        "    else:\n",
        "      print(\"Account number does not exits\")\n",
        "\n",
        "  def Display(self):\n",
        "    print(\"Account Number :\",self.__account_no)\n",
        "    print(\"Name :\",self.__name)\n",
        "    print(\"Balance :\",self.__balance)\n",
        "\n",
        "\n",
        "\n"
      ],
      "metadata": {
        "id": "fUQOmQyA6YDR"
      },
      "execution_count": 44,
      "outputs": []
    },
    {
      "cell_type": "code",
      "source": [
        "new_account = BankAccount(12345,'farman alam',1000)"
      ],
      "metadata": {
        "id": "swNIHo1NkGxj"
      },
      "execution_count": 45,
      "outputs": []
    },
    {
      "cell_type": "code",
      "source": [
        "new_account.Deposit(4000)\n",
        "\n",
        "\n"
      ],
      "metadata": {
        "id": "WOKh9IxZkUtP",
        "outputId": "223464c1-b567-4f2c-f7f8-92df1691e577",
        "colab": {
          "base_uri": "https://localhost:8080/"
        }
      },
      "execution_count": 46,
      "outputs": [
        {
          "output_type": "stream",
          "name": "stdout",
          "text": [
            "Enter account number 12345\n",
            "your money is credited in your account \n"
          ]
        }
      ]
    },
    {
      "cell_type": "code",
      "source": [
        "new_account.Deposit(4000)"
      ],
      "metadata": {
        "id": "dQ9mJ9ukkUzR",
        "outputId": "d832cac0-1cb8-45e3-bac9-6f9fc9d36605",
        "colab": {
          "base_uri": "https://localhost:8080/"
        }
      },
      "execution_count": 47,
      "outputs": [
        {
          "output_type": "stream",
          "name": "stdout",
          "text": [
            "Enter account number 1234\n",
            "Account number does not exits\n"
          ]
        }
      ]
    },
    {
      "cell_type": "code",
      "source": [
        "new_account.Withdrawal(1500)"
      ],
      "metadata": {
        "id": "Rez-u_J0oNmF",
        "outputId": "90d86049-8282-4cfc-d635-22e6418a87e8",
        "colab": {
          "base_uri": "https://localhost:8080/"
        }
      },
      "execution_count": 49,
      "outputs": [
        {
          "output_type": "stream",
          "name": "stdout",
          "text": [
            "Enter account number 12345\n",
            "money is debited in your account \n"
          ]
        }
      ]
    },
    {
      "cell_type": "code",
      "source": [
        "new_account.Display()"
      ],
      "metadata": {
        "id": "rX3tRzSkoNov",
        "outputId": "269ad185-49f9-4906-d23a-a627fde2635c",
        "colab": {
          "base_uri": "https://localhost:8080/"
        }
      },
      "execution_count": 50,
      "outputs": [
        {
          "output_type": "stream",
          "name": "stdout",
          "text": [
            "Account Number : 12345\n",
            "Name : farman alam\n",
            "Balance : 3500\n"
          ]
        }
      ]
    },
    {
      "cell_type": "code",
      "source": [],
      "metadata": {
        "id": "xV1hy7AHoNsU"
      },
      "execution_count": null,
      "outputs": []
    },
    {
      "cell_type": "markdown",
      "source": [
        "##`Q-3:Computation class`\n",
        "\n",
        "1. Create a `Computation` class with a default constructor (without parameters) allowing to perform various calculations on integers numbers.\n",
        "2. Create a method called `Factorial()` which allows to calculate the factorial of an integer n. Integer n as parameter for this method\n",
        "\n",
        "3. Create a method called `naturalSum()` allowing to calculate the sum of the first n integers 1 + 2 + 3 + .. + n. Integer n as parameter for this method.\n",
        "\n",
        "4. Create a method called `testPrime()` in  the Calculation class to test the primality of a given integer n, n is Prime or Not? Integer n as parameter for this method.\n",
        "\n",
        "5. Create  a method called `testPrims()` allowing to test if two numbers are prime between them. Two integers are prime to one another if they have only `1` as their common divisor. Eg. 4 and 9 are prime to each other.\n",
        "\n",
        "5. Create a `tableMult()` method which creates and displays the multiplication table of a given integer. Then create an `allTablesMult()` method to display all the integer multiplication tables 1, 2, 3, ..., 9.\n",
        "\n",
        "6. Create a static `listDiv()` method that gets all the divisors of a given integer on new list called  Ldiv. Create another `listDivPrim()` method that gets all the prime divisors of a given integer."
      ],
      "metadata": {
        "id": "QovcQAZTrgGU"
      }
    },
    {
      "cell_type": "code",
      "source": [
        "from os import NGROUPS_MAX\n",
        "# write your code here\n",
        "\n",
        "class Computation:\n",
        "\n",
        "  def __init__(self):\n",
        "    pass\n",
        "\n",
        "  def Factorial(self,num):\n",
        "    prod = 1\n",
        "    for i in range(1,num+1):\n",
        "      prod *=i\n",
        "    return prod\n",
        "\n",
        "  def naturalSum(self,num):\n",
        "    sum = 0\n",
        "    for i in range(1,num+1):\n",
        "      sum +=i\n",
        "    return sum\n",
        "\n",
        "  def testPrime(self,num):\n",
        "    if num <= 1:\n",
        "        return \"Not prime\"\n",
        "\n",
        "    for i in range(2,num):\n",
        "      if num%i==0:\n",
        "        return \"Not prime\"\n",
        "    return \"Prime\"\n",
        "\n",
        "  def gcd(self, a, b):\n",
        "        while b != 0:\n",
        "            a, b = b, a % b\n",
        "        return a\n",
        "\n",
        "  def testPrims(self, a, b):\n",
        "        if self.gcd(a, b) == 1:\n",
        "            return \"Prime to each other\"\n",
        "        else:\n",
        "            return \"Not prime to each other\"\n",
        "\n",
        "  def tableMult(self,num):\n",
        "    for i in range(1,11):\n",
        "      print(num, \" * \",i,\" = \",i*num )\n",
        "\n",
        "  def allTablesMult(self, num):\n",
        "    for t in range(1,num+1):\n",
        "      for i in range(1,11):\n",
        "        print(t, \" * \",i,\" = \",i*t )\n",
        "      print()\n",
        "\n",
        "  def listDiv(self,num):\n",
        "    Ldiv =[]\n",
        "    for i in range(1,num+1):\n",
        "      if num%i == 0:\n",
        "        Ldiv.append(i)\n",
        "    return Ldiv\n",
        "\n",
        "  def listDivPrim(self,num):\n",
        "    Pdiv = []\n",
        "    l = self.listDiv(num)\n",
        "\n",
        "    for i in range(1,len(l)):\n",
        "      for j in range(2,l[i]):\n",
        "        if l[i]%j==0:\n",
        "          break\n",
        "      else:\n",
        "        Pdiv.append(l[i])\n",
        "\n",
        "    return Pdiv\n",
        "\n",
        "\n",
        "\n",
        "\n",
        "\n",
        "\n",
        "\n"
      ],
      "metadata": {
        "id": "YEkPH70l6Z-o"
      },
      "execution_count": 25,
      "outputs": []
    },
    {
      "cell_type": "code",
      "source": [
        "cul = Computation()"
      ],
      "metadata": {
        "id": "sjKbe1wYtjfL"
      },
      "execution_count": 26,
      "outputs": []
    },
    {
      "cell_type": "code",
      "source": [
        "cul.Factorial(5)"
      ],
      "metadata": {
        "id": "mJaAwjDYtnij",
        "outputId": "05d55c4e-4eab-4140-c2f5-73116f2da576",
        "colab": {
          "base_uri": "https://localhost:8080/"
        }
      },
      "execution_count": 58,
      "outputs": [
        {
          "output_type": "execute_result",
          "data": {
            "text/plain": [
              "120"
            ]
          },
          "metadata": {},
          "execution_count": 58
        }
      ]
    },
    {
      "cell_type": "code",
      "source": [
        "cul.naturalSum(5)"
      ],
      "metadata": {
        "id": "Wm1PIimwtnk8",
        "outputId": "b75596a0-035d-4cd8-b4c6-0e22c864a115",
        "colab": {
          "base_uri": "https://localhost:8080/"
        }
      },
      "execution_count": 59,
      "outputs": [
        {
          "output_type": "execute_result",
          "data": {
            "text/plain": [
              "15"
            ]
          },
          "metadata": {},
          "execution_count": 59
        }
      ]
    },
    {
      "cell_type": "code",
      "source": [
        "cul.testPrime(6)"
      ],
      "metadata": {
        "id": "l9NvlX8XtnnU",
        "outputId": "32132592-b6dd-40d3-ebd4-f15f6255ecb6",
        "colab": {
          "base_uri": "https://localhost:8080/",
          "height": 36
        }
      },
      "execution_count": 65,
      "outputs": [
        {
          "output_type": "execute_result",
          "data": {
            "text/plain": [
              "'Not prime'"
            ],
            "application/vnd.google.colaboratory.intrinsic+json": {
              "type": "string"
            }
          },
          "metadata": {},
          "execution_count": 65
        }
      ]
    },
    {
      "cell_type": "code",
      "source": [
        "cul.tableMult(5)"
      ],
      "metadata": {
        "id": "q94_38gntnpv",
        "outputId": "be7503e2-4c30-49f4-e782-212793b53e0d",
        "colab": {
          "base_uri": "https://localhost:8080/"
        }
      },
      "execution_count": 3,
      "outputs": [
        {
          "output_type": "stream",
          "name": "stdout",
          "text": [
            "5  *  1  =  5\n",
            "5  *  2  =  10\n",
            "5  *  3  =  15\n",
            "5  *  4  =  20\n",
            "5  *  5  =  25\n",
            "5  *  6  =  30\n",
            "5  *  7  =  35\n",
            "5  *  8  =  40\n",
            "5  *  9  =  45\n",
            "5  *  10  =  50\n"
          ]
        }
      ]
    },
    {
      "cell_type": "code",
      "source": [
        "cul.allTablesMult(5)"
      ],
      "metadata": {
        "id": "LhVW-tpwtnsV",
        "outputId": "4951d5ed-78d0-4fc4-d9a7-e58d04695d35",
        "colab": {
          "base_uri": "https://localhost:8080/"
        }
      },
      "execution_count": 11,
      "outputs": [
        {
          "output_type": "stream",
          "name": "stdout",
          "text": [
            "1  *  1  =  1\n",
            "1  *  2  =  2\n",
            "1  *  3  =  3\n",
            "1  *  4  =  4\n",
            "1  *  5  =  5\n",
            "1  *  6  =  6\n",
            "1  *  7  =  7\n",
            "1  *  8  =  8\n",
            "1  *  9  =  9\n",
            "1  *  10  =  10\n",
            "\n",
            "2  *  1  =  2\n",
            "2  *  2  =  4\n",
            "2  *  3  =  6\n",
            "2  *  4  =  8\n",
            "2  *  5  =  10\n",
            "2  *  6  =  12\n",
            "2  *  7  =  14\n",
            "2  *  8  =  16\n",
            "2  *  9  =  18\n",
            "2  *  10  =  20\n",
            "\n",
            "3  *  1  =  3\n",
            "3  *  2  =  6\n",
            "3  *  3  =  9\n",
            "3  *  4  =  12\n",
            "3  *  5  =  15\n",
            "3  *  6  =  18\n",
            "3  *  7  =  21\n",
            "3  *  8  =  24\n",
            "3  *  9  =  27\n",
            "3  *  10  =  30\n",
            "\n",
            "4  *  1  =  4\n",
            "4  *  2  =  8\n",
            "4  *  3  =  12\n",
            "4  *  4  =  16\n",
            "4  *  5  =  20\n",
            "4  *  6  =  24\n",
            "4  *  7  =  28\n",
            "4  *  8  =  32\n",
            "4  *  9  =  36\n",
            "4  *  10  =  40\n",
            "\n",
            "5  *  1  =  5\n",
            "5  *  2  =  10\n",
            "5  *  3  =  15\n",
            "5  *  4  =  20\n",
            "5  *  5  =  25\n",
            "5  *  6  =  30\n",
            "5  *  7  =  35\n",
            "5  *  8  =  40\n",
            "5  *  9  =  45\n",
            "5  *  10  =  50\n",
            "\n"
          ]
        }
      ]
    },
    {
      "cell_type": "code",
      "source": [
        "cul.listDiv(15)"
      ],
      "metadata": {
        "id": "7KxqJPnPtnu6",
        "outputId": "cd780d30-2fba-4d0f-87eb-1571e79178e1",
        "colab": {
          "base_uri": "https://localhost:8080/"
        }
      },
      "execution_count": 16,
      "outputs": [
        {
          "output_type": "execute_result",
          "data": {
            "text/plain": [
              "[1, 3, 5, 15]"
            ]
          },
          "metadata": {},
          "execution_count": 16
        }
      ]
    },
    {
      "cell_type": "code",
      "source": [
        "cul.listDivPrim(15)"
      ],
      "metadata": {
        "id": "ztar9OwkYixg",
        "outputId": "f0511a91-53bf-4410-ae10-0eb143fe6ac4",
        "colab": {
          "base_uri": "https://localhost:8080/"
        }
      },
      "execution_count": 27,
      "outputs": [
        {
          "output_type": "execute_result",
          "data": {
            "text/plain": [
              "[3, 5]"
            ]
          },
          "metadata": {},
          "execution_count": 27
        }
      ]
    },
    {
      "cell_type": "code",
      "source": [],
      "metadata": {
        "id": "TDv3VOXzYi8X"
      },
      "execution_count": null,
      "outputs": []
    },
    {
      "cell_type": "code",
      "source": [],
      "metadata": {
        "id": "FuQ9pNGcYi_Y"
      },
      "execution_count": null,
      "outputs": []
    },
    {
      "cell_type": "markdown",
      "source": [
        "##`Q-4`: Build flashcard using class in Python.\n",
        "\n",
        "Build a flashcard using class in python. A flashcard is a card having information on both sides, which can be used as an aid in memoization. Flashcards usually have a question on one side and an answer on the other.\n",
        "\n",
        "**Example 1:**\n",
        "\n",
        "Approach:\n",
        "\n",
        "- Create a class named FlashCard.\n",
        "- Initialize dictionary fruits using __init__() method. Here you have to define fruit name as key and it's color as value. E.g., {\"Banana\": \"yellow\", \"Strawberries\": \"pink\"}\n",
        "- Now randomly choose a pair from fruits by using _random_ module and store the key in variable _fruit_ and _value_ in variable color.\n",
        "- Now prompt the user to answer the color of the randomly chosen fruit.\n",
        "- If correct print correct else print wrong.\n",
        "\n",
        "Output:\n",
        "```bash\n",
        "welcome to fruit quiz\n",
        "What is the color of Strawberries\n",
        "pink\n",
        "Correct answer\n",
        "Enter 0, if you want to play again: 0\n",
        "What is the color of watermelon\n",
        "green\n",
        "Correct answer\n",
        "Enter 0, if you want to play again: 1\n",
        "```"
      ],
      "metadata": {
        "id": "0yn23_oEriXa"
      }
    },
    {
      "cell_type": "code",
      "source": [
        "# write your code here\n",
        "import random\n",
        "class FlashCard:\n",
        "  def __init__(self):\n",
        "      self.fruits = {\n",
        "            \"Banana\": \"yellow\",\n",
        "            \"Strawberries\": \"pink\",\n",
        "            \"Apple\": \"red\",\n",
        "            \"Grapes\": \"purple\",\n",
        "            \"Orange\": \"orange\",\n",
        "            \"Blueberries\": \"blue\",\n",
        "            \"Lemon\": \"yellow\",\n",
        "            \"Mango\": \"yellow\"\n",
        "        }\n",
        "\n",
        "  def quiz(self):\n",
        "    fruit , color = random.choice(list(self.fruits.items()))\n",
        "    print(\"What is the color \",fruit)\n",
        "    user = input(\"enter frits colour \")\n",
        "\n",
        "    if user == color:\n",
        "      print(\"Correct!\")\n",
        "      n  = int(input(\"enter zero if play again\"))\n",
        "      if n ==0:\n",
        "        self.quiz()\n",
        "      else:\n",
        "        print(\"good day\")\n",
        "    else:\n",
        "      print(\"Wrong!\")\n",
        "      n  = int(input(\"enter zero if play again\"))\n",
        "      if n ==0:\n",
        "        self.quiz()\n",
        "      else:\n",
        "        print(\"good day\")"
      ],
      "metadata": {
        "id": "vCrUF6VU6l6w"
      },
      "execution_count": 41,
      "outputs": []
    },
    {
      "cell_type": "code",
      "source": [
        "f = FlashCard()\n",
        "f.quiz()"
      ],
      "metadata": {
        "id": "wXSCo132IMMY",
        "outputId": "9493b20d-0822-426e-ad15-35c80d14ac84",
        "colab": {
          "base_uri": "https://localhost:8080/"
        }
      },
      "execution_count": 42,
      "outputs": [
        {
          "output_type": "stream",
          "name": "stdout",
          "text": [
            "What is the color  Apple\n",
            "enter frits colour red\n",
            "Correct!\n",
            "enter zero if play again0\n",
            "What is the color  Blueberries\n",
            "enter frits colour blue\n",
            "Correct!\n",
            "enter zero if play again0\n",
            "What is the color  Lemon\n",
            "enter frits colour green\n",
            "Wrong!\n",
            "enter zero if play again0\n",
            "What is the color  Apple\n",
            "enter frits colour red\n",
            "Correct!\n",
            "enter zero if play again0\n",
            "What is the color  Lemon\n",
            "enter frits colour yellow\n",
            "Correct!\n",
            "enter zero if play again0\n",
            "What is the color  Mango\n",
            "enter frits colour yellow\n",
            "Correct!\n",
            "enter zero if play again1\n",
            "good day\n"
          ]
        }
      ]
    },
    {
      "cell_type": "markdown",
      "source": [
        "## `Q-5:` Problem 5 based on OOP Python.\n",
        "\n",
        "TechWorld, a technology training center, wants to allocate courses for instructors. An instructor is identified by name, technology skills, experience and average feedback. An instructor is allocated a course, if he/she satisfies the below two conditions:\n",
        "- eligibility criteria:\n",
        "    - if experience is more than 3 years, average feedback should be 4.5 or more\n",
        "    - if experience is 3 years or less, average feedback should be 4 or more\n",
        "- he/she should posses the technology skill for the course\n",
        "\n",
        "Identify the class name and attributes to represent instructors. Write a Python program to implement the class chosen with its attributes and methods.\n",
        "\n",
        "**Note:**\n",
        "- Consider all instance variables to be private and methods to be public.\n",
        "- An instructor may have multiple technology skills, so consider instance variable, technology_skill to be a list.\n",
        "- *check_eligibility()*: Return true if eligibility criteria is satisfied by the instructor. Else, return false\n",
        "- *allocate_course(technology)*: Return true if the course which requires the given technology can be allocated to the instructor. Else, return false.\n",
        "\n",
        "Represent a few objects of the class, initialize instance variables using setter methods, invoke\n",
        "appropriate methods and test your program."
      ],
      "metadata": {
        "id": "GN2r0jbRewYr"
      }
    },
    {
      "cell_type": "code",
      "source": [
        "# write your code here\n",
        "\n",
        "class  Instructors:\n",
        "  def __init__(self, name, technology_skills, experience, average_feedback):\n",
        "    self.__name = name\n",
        "    self.__technology_skills = technology_skills\n",
        "    self.__experience = experience\n",
        "    self.__average_feedback = average_feedback\n",
        "\n",
        "  def eligibility_criteria(self):\n",
        "    if self.__experience > 3 and self.__average_feedback >= 4.5:\n",
        "      return True\n",
        "    elif self.__experience <= 3 and self.__average_feedback >= 4:\n",
        "      return True\n",
        "    else:\n",
        "      return False\n",
        "\n",
        "  def allocate_course(self,technology):\n",
        "    if self.eligibility_criteria() and technology in self.__technology_skills:\n",
        "      return True\n",
        "    else:\n",
        "     return False\n",
        "  def get_name(self):\n",
        "    return self.__name\n",
        "\n",
        "  def set_name(self,new_name):\n",
        "    self.__name = new_name\n",
        "\n",
        "  def get_tech_skills(self):\n",
        "    return self.__technology_skills\n",
        "\n",
        "  def set_tech_skills(self,new_skill):\n",
        "    self.__technology_skills = new_skill\n",
        "\n",
        "  def get_experience(self):\n",
        "    return self.__experience\n",
        "\n",
        "  def set_experience(self,new_experience):\n",
        "    self.__experience = new_experience\n",
        "\n",
        "  def get_feedback(self):\n",
        "    return self.__average_feedback\n",
        "\n",
        "  def set_feedback(self,new_feedback):\n",
        "    self.__average_feedback = new_feedback\n",
        "\n",
        "\n",
        "\n"
      ],
      "metadata": {
        "id": "pdMFuVFnlvKL"
      },
      "execution_count": 6,
      "outputs": []
    },
    {
      "cell_type": "code",
      "source": [
        "i = Instructors('farman',['data_science','python'],3,4.6)"
      ],
      "metadata": {
        "id": "ODPAZJfiUAPF"
      },
      "execution_count": 8,
      "outputs": []
    },
    {
      "cell_type": "code",
      "source": [
        "i.eligibility_criteria()"
      ],
      "metadata": {
        "id": "K0_uV50pSVLm",
        "outputId": "6621b062-5f06-4cfb-81be-723cdc99b77e",
        "colab": {
          "base_uri": "https://localhost:8080/"
        }
      },
      "execution_count": 9,
      "outputs": [
        {
          "output_type": "execute_result",
          "data": {
            "text/plain": [
              "True"
            ]
          },
          "metadata": {},
          "execution_count": 9
        }
      ]
    },
    {
      "cell_type": "code",
      "source": [
        "i.allocate_course(\"python\")"
      ],
      "metadata": {
        "id": "v7AiBKSeVGJP",
        "outputId": "fe8dbc47-9af2-46b3-dd70-e34e7a5f2229",
        "colab": {
          "base_uri": "https://localhost:8080/"
        }
      },
      "execution_count": 10,
      "outputs": [
        {
          "output_type": "execute_result",
          "data": {
            "text/plain": [
              "True"
            ]
          },
          "metadata": {},
          "execution_count": 10
        }
      ]
    },
    {
      "cell_type": "code",
      "source": [
        "i.get_name()"
      ],
      "metadata": {
        "id": "CCr9Tq_cVNnr",
        "outputId": "4fa073e3-a963-410b-d3dd-85eb9e39cad3",
        "colab": {
          "base_uri": "https://localhost:8080/",
          "height": 36
        }
      },
      "execution_count": 11,
      "outputs": [
        {
          "output_type": "execute_result",
          "data": {
            "text/plain": [
              "'farman'"
            ],
            "application/vnd.google.colaboratory.intrinsic+json": {
              "type": "string"
            }
          },
          "metadata": {},
          "execution_count": 11
        }
      ]
    },
    {
      "cell_type": "code",
      "source": [
        "i.set_tech_skills(\"deep_learning\")"
      ],
      "metadata": {
        "id": "TxbZAeaRVWap"
      },
      "execution_count": 12,
      "outputs": []
    },
    {
      "cell_type": "code",
      "source": [
        "i.get_tech_skills()"
      ],
      "metadata": {
        "id": "i0saU5EfVl_x",
        "outputId": "5ee4f50f-cf6a-4bb0-b214-6a09a98021fb",
        "colab": {
          "base_uri": "https://localhost:8080/",
          "height": 36
        }
      },
      "execution_count": 13,
      "outputs": [
        {
          "output_type": "execute_result",
          "data": {
            "text/plain": [
              "'deep_learning'"
            ],
            "application/vnd.google.colaboratory.intrinsic+json": {
              "type": "string"
            }
          },
          "metadata": {},
          "execution_count": 13
        }
      ]
    },
    {
      "cell_type": "code",
      "source": [],
      "metadata": {
        "id": "8LcS_ZoyVqbU"
      },
      "execution_count": null,
      "outputs": []
    }
  ]
}