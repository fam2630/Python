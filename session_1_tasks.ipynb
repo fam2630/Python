{
  "nbformat": 4,
  "nbformat_minor": 0,
  "metadata": {
    "colab": {
      "provenance": []
    },
    "kernelspec": {
      "name": "python3",
      "display_name": "Python 3"
    },
    "language_info": {
      "name": "python"
    }
  },
  "cells": [
    {
      "cell_type": "markdown",
      "source": [
        "# Task : Session 1\n",
        "Solve these questions own your own and try to test yourself what you have learned in the session.\n",
        "\n",
        "Happy Learning!"
      ],
      "metadata": {
        "id": "A05OG15VqOPF"
      }
    },
    {
      "cell_type": "markdown",
      "source": [
        "### Q1 :- Print the given strings as per stated format.\n",
        "\n",
        "**Given strings**:\n",
        "```\n",
        "\"Data\" \"Science\" \"Mentorship\" \"Program\"\n",
        "\"By\" \"CampusX\"\n",
        "```\n",
        "**Output**:\n",
        "```\n",
        "Data-Science-Mentorship-Program-started-By-CampusX\n",
        "```\n",
        "\n",
        "Concept- [Seperator and End]"
      ],
      "metadata": {
        "id": "2doIXf8bqe9_"
      }
    },
    {
      "cell_type": "code",
      "source": [
        "# Write your code here\n",
        "print(\"Data\", \"Science\", \"Mentorship\", \"Program\",sep='-',end='-started-')\n",
        "print(\"By\", \"CampusX\",sep=\"-\")"
      ],
      "metadata": {
        "id": "-em6d3KErDtp",
        "outputId": "2382070b-b16f-44f6-a848-11ca0c9e2541",
        "colab": {
          "base_uri": "https://localhost:8080/"
        }
      },
      "execution_count": 17,
      "outputs": [
        {
          "output_type": "stream",
          "name": "stdout",
          "text": [
            "Data-Science-Mentorship-Program-started-By-CampusX\n"
          ]
        }
      ]
    },
    {
      "cell_type": "markdown",
      "source": [
        "### Q2:- Write a program that will convert celsius value to fahrenheit."
      ],
      "metadata": {
        "id": "1KUpN7ZTrC3_"
      }
    },
    {
      "cell_type": "code",
      "source": [
        "# Write your code here\n",
        "c = int(input(\"enter celsius\"))\n",
        "f = c*(9/5)+32\n",
        "print(\"fahrenheit: \",f)"
      ],
      "metadata": {
        "id": "yxKYhYQiqWfj",
        "outputId": "d2de0b20-888c-40a6-b156-b7cdc55c01f7",
        "colab": {
          "base_uri": "https://localhost:8080/"
        }
      },
      "execution_count": 5,
      "outputs": [
        {
          "output_type": "stream",
          "name": "stdout",
          "text": [
            "enter celsius100\n",
            "fahrenheit:  212.0\n"
          ]
        }
      ]
    },
    {
      "cell_type": "markdown",
      "source": [
        "### Q3:- Take 2 numbers as input from the user.Write a program to swap the numbers without using any special python syntax."
      ],
      "metadata": {
        "id": "RLrOBBJurLB2"
      }
    },
    {
      "cell_type": "code",
      "source": [
        "# Write your code here\n",
        "a = int(input(\"enter 1st number:\"))\n",
        "b = int(input(\"enter 2nd nuber:\"))\n",
        "\n",
        "temp = a\n",
        "a = b\n",
        "b = temp\n",
        "\n",
        "print(a,b)"
      ],
      "metadata": {
        "id": "yPn7if0TrJ4F",
        "outputId": "715292ed-3a7a-4141-d86e-34bc19a95957",
        "colab": {
          "base_uri": "https://localhost:8080/"
        }
      },
      "execution_count": 6,
      "outputs": [
        {
          "output_type": "stream",
          "name": "stdout",
          "text": [
            "enter 1st number:9\n",
            "enter 2nd nuber:7\n",
            "7 9\n"
          ]
        }
      ]
    },
    {
      "cell_type": "markdown",
      "source": [
        "### Q4:- Write a program to find the euclidean distance between two coordinates.Take both the coordinates from the user as input."
      ],
      "metadata": {
        "id": "waLCP1bjr7ML"
      }
    },
    {
      "cell_type": "code",
      "source": [
        "# Write your code here\n",
        "x1 = int(input(\"enter x1 : \"))\n",
        "y1 = int(input(\"enter y1 : \"))\n",
        "x2 = int(input(\"enter x2 : \"))\n",
        "y2 = int(input(\"enter y2 : \"))\n",
        "\n",
        "eud = ((x2-x1)**2+(y2-y1)**2)**0.5\n",
        "print(\"euclidean distance\",eud)"
      ],
      "metadata": {
        "id": "Pl1Sv-xnrxnH",
        "outputId": "41ccfee9-81e4-4d0d-f486-889eceaba381",
        "colab": {
          "base_uri": "https://localhost:8080/"
        }
      },
      "execution_count": 11,
      "outputs": [
        {
          "output_type": "stream",
          "name": "stdout",
          "text": [
            "enter x1 : 3\n",
            "enter y1 : 2\n",
            "enter x2 : 4\n",
            "enter y2 : 1\n",
            "euclidean distance 1.4142135623730951\n"
          ]
        }
      ]
    },
    {
      "cell_type": "markdown",
      "source": [
        "### Q5:- Write a program to find the simple interest when the value of principle,rate of interest and time period is provided by the user.\n"
      ],
      "metadata": {
        "id": "VLrhg-FRsHjR"
      }
    },
    {
      "cell_type": "code",
      "source": [
        "# Write your code here\n",
        "P = int(input(\"principle amount \"))\n",
        "R = int(input(\"intrest rate \"))\n",
        "T = int(input(\"Time in year\"))\n",
        "S_I = (P*R*T)/100\n",
        "print(\"simple intrest \",S_I)"
      ],
      "metadata": {
        "id": "s40DlReZsTmY",
        "outputId": "a2d922b3-f0ff-4f8d-bd26-c5fa65368967",
        "colab": {
          "base_uri": "https://localhost:8080/"
        }
      },
      "execution_count": 12,
      "outputs": [
        {
          "output_type": "stream",
          "name": "stdout",
          "text": [
            "principle amount 48000\n",
            "intrest rate 10\n",
            "Time in year4\n",
            "simple intrest  19200.0\n"
          ]
        }
      ]
    },
    {
      "cell_type": "markdown",
      "source": [
        "### Q6:- Write a program that will tell the number of dogs and chicken are there when the user will provide the value of total heads and legs.\n",
        "\n",
        "For example:\n",
        "Input:\n",
        "heads -> 4\n",
        "legs -> 12\n",
        "<br>\n",
        "Output:\n",
        "dogs -> 2\n",
        "chicken -> 2\n",
        "\n",
        "\n",
        "\n"
      ],
      "metadata": {
        "id": "LMy0BTUktYKa"
      }
    },
    {
      "cell_type": "code",
      "source": [
        "# Write your code here\n",
        "legs = int(input(\"enter total legs :\"))\n",
        "heads = int(input(\"enter total heads :\"))\n",
        "\n",
        "c = (4*heads-legs)//2\n",
        "d = heads-c\n",
        "print('number of dogs - {} and chicken - {}'.format(d,c) )\n"
      ],
      "metadata": {
        "id": "XSBvJoA4tXaG",
        "outputId": "c46a8c03-fa2c-42b0-b79c-cd9defd54d1a",
        "colab": {
          "base_uri": "https://localhost:8080/"
        }
      },
      "execution_count": 16,
      "outputs": [
        {
          "output_type": "stream",
          "name": "stdout",
          "text": [
            "enter total legs :28\n",
            "enter total heads :10\n",
            "number of dogs - 4 and chicken - 6\n"
          ]
        }
      ]
    },
    {
      "cell_type": "markdown",
      "source": [
        "### Q7:- Write a program to find the sum of squares of first n natural numbers where n will be provided by the user."
      ],
      "metadata": {
        "id": "gJ7C5kZYt4BP"
      }
    },
    {
      "cell_type": "code",
      "source": [
        "# Write your code here\n",
        "n = int(input(\"enter number \"))\n",
        "sum = (n*(2*n+1)*(n+1))/6\n",
        "print('sum of squares of first n natural numbers ' ,sum)"
      ],
      "metadata": {
        "id": "_tHsmEHzt2nX",
        "outputId": "37fdd0ba-5435-407a-b447-60711e7de43b",
        "colab": {
          "base_uri": "https://localhost:8080/"
        }
      },
      "execution_count": 20,
      "outputs": [
        {
          "output_type": "stream",
          "name": "stdout",
          "text": [
            "enter number 10\n",
            "sum of squares of first n natural numbers  385.0\n"
          ]
        }
      ]
    },
    {
      "cell_type": "markdown",
      "source": [
        "### Q8:- Given the first 2 terms of an Arithmetic Series.Find the Nth term of the series. Assume all inputs are provided by the user."
      ],
      "metadata": {
        "id": "FHrMM7g-yG1h"
      }
    },
    {
      "cell_type": "code",
      "source": [
        "# Write your code here\n",
        "a0 = int(input(\"enter first number \"))\n",
        "a1 = int(input(\"enter second number \"))\n",
        "n = int(input(\"enter n term\"))\n",
        "\n",
        "d = a1-a0\n",
        "\n",
        "an = a0 + (n-1)*d\n",
        "\n",
        "print(\"a{} - \".format(n),an)\n",
        "\n"
      ],
      "metadata": {
        "id": "go4_kmZmyVSx",
        "outputId": "46b286e2-102d-4fff-c1d6-304a72161c34",
        "colab": {
          "base_uri": "https://localhost:8080/"
        }
      },
      "execution_count": 22,
      "outputs": [
        {
          "output_type": "stream",
          "name": "stdout",
          "text": [
            "enter first number 2\n",
            "enter second number 4\n",
            "enter n term8\n",
            "a8 -  16\n"
          ]
        }
      ]
    },
    {
      "cell_type": "markdown",
      "source": [
        "### Q9:- Given 2 fractions, find the sum of those 2 fractions.Take the numerator and denominator values of the fractions from the user."
      ],
      "metadata": {
        "id": "QgyRX_es1oum"
      }
    },
    {
      "cell_type": "code",
      "source": [
        "# Write your code here\n",
        "n1 = int(input(\"enter numerator n1 \"))\n",
        "d1 = int(input(\"enter denominator  d1 \"))\n",
        "\n",
        "n2 = int(input(\"enter numerator n2 \"))\n",
        "d2 = int(input(\"enter denominator  d2 \"))\n",
        "\n",
        "n = n1*d2 + n2*d1\n",
        "d = d1*d2\n",
        "\n",
        "print(\"{}/{}\".format(n,d))"
      ],
      "metadata": {
        "id": "X05xqFS1yW16",
        "outputId": "c4f0f5ed-b4b6-4fa5-f3fb-e32bf625cefc",
        "colab": {
          "base_uri": "https://localhost:8080/"
        }
      },
      "execution_count": 24,
      "outputs": [
        {
          "output_type": "stream",
          "name": "stdout",
          "text": [
            "enter numerator n1 2\n",
            "enter denominator  d1 7\n",
            "enter numerator n2 3\n",
            "enter denominator  d2 5\n",
            "31/35\n"
          ]
        }
      ]
    },
    {
      "cell_type": "markdown",
      "source": [
        "### Q10:- Given the height, width and breadth of a milk tank, you have to find out how many glasses of milk can be obtained? Assume all the inputs are provided by the user.\n",
        "\n",
        "\n",
        "\n",
        "Input:<br>\n",
        "Dimensions of the milk tank<br>\n",
        "H = 20cm, L = 20cm, B = 20cm\n",
        "<br><br>\n",
        "Dimensions of the glass<br>\n",
        "h = 3cm, r = 1cm"
      ],
      "metadata": {
        "id": "eaql38ln13u7"
      }
    },
    {
      "cell_type": "code",
      "source": [
        "# Write your code here\n",
        "H = int(input(\"enter height tank \"))\n",
        "L = int(input(\"enter length of tank \"))\n",
        "B = int(input(\"enter breadth of tank\"))\n",
        "\n",
        "volume_tank = L*B*H\n",
        "\n",
        "h = int(input(\"enter height of glass \"))\n",
        "r = int(input(\"enter radius og glass \"))\n",
        "\n",
        "volume_glass = 3.14*r**2*H\n",
        "\n",
        "no_glass = volume_tank//volume_glass\n",
        "print(\"no of glass \",no_glass)\n"
      ],
      "metadata": {
        "id": "FePZqno74eWv",
        "outputId": "84c6a4b1-4a83-4570-dd71-38b0f13fe60c",
        "colab": {
          "base_uri": "https://localhost:8080/"
        }
      },
      "execution_count": 25,
      "outputs": [
        {
          "output_type": "stream",
          "name": "stdout",
          "text": [
            "enter height tank 20\n",
            "enter length of tank 20\n",
            "enter breadth of tank20\n",
            "enter height of glass 5\n",
            "enter radius og glass 2\n",
            "no of glass  31.0\n"
          ]
        }
      ]
    }
  ]
}