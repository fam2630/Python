{
  "nbformat": 4,
  "nbformat_minor": 0,
  "metadata": {
    "colab": {
      "provenance": []
    },
    "kernelspec": {
      "name": "python3",
      "display_name": "Python 3"
    },
    "language_info": {
      "name": "python"
    }
  },
  "cells": [
    {
      "cell_type": "markdown",
      "source": [
        "### **`Problem-1:`** Write a Python function that takes a list and returns a new list with unique elements of the first list.\n",
        "\n",
        "**Exercise 1:**\n",
        "\n",
        "Input:\n",
        "\n",
        "```bash\n",
        "[1,2,3,3,3,3,4,5]\n",
        "```\n",
        "\n",
        "Output:\n",
        "\n",
        "```bash\n",
        "[1, 2, 3, 4, 5]\n",
        "```"
      ],
      "metadata": {
        "id": "h6dDSW5XGZFi"
      }
    },
    {
      "cell_type": "code",
      "source": [
        "list1 = [1,2,3,3,3,3,4,5]\n",
        "\n",
        "def unique_list(l):\n",
        "  \"return a  list of unique element\"\n",
        "  result = []\n",
        "  for i in l:\n",
        "    if i not in result:\n",
        "      result.append(i)\n",
        "  return result\n",
        "\n"
      ],
      "metadata": {
        "id": "R5pq1C9LGe1y"
      },
      "execution_count": 5,
      "outputs": []
    },
    {
      "cell_type": "code",
      "source": [
        "unique_list(list1)\n",
        "\n",
        "print(unique_list.__doc__)"
      ],
      "metadata": {
        "id": "BgNZndGq405u",
        "outputId": "779f65b7-86c5-44eb-ad4c-155a7bc0e3da",
        "colab": {
          "base_uri": "https://localhost:8080/"
        }
      },
      "execution_count": 7,
      "outputs": [
        {
          "output_type": "stream",
          "name": "stdout",
          "text": [
            "return a  list of unique element\n"
          ]
        }
      ]
    },
    {
      "cell_type": "markdown",
      "source": [
        "### **`Problem-2:`** Write a Python function that accepts a hyphen-separated sequence of words as parameter and returns the words in a hyphen-separated sequence after sorting them alphabetically.\n",
        "\n",
        "**Example 1:**\n",
        "\n",
        "Input:\n",
        "```bash\n",
        "green-red-yellow-black-white\n",
        "```\n",
        "\n",
        "Output:\n",
        "```bash\n",
        "black-green-red-white-yellow\n",
        "```"
      ],
      "metadata": {
        "id": "UxQ_VoyJGwHj"
      }
    },
    {
      "cell_type": "code",
      "source": [
        "# Write code here\n",
        "string = 'green-red-yellow-black-white'\n",
        "\n",
        "def str_sep(s):\n",
        "  l = s.split(\"-\")\n",
        "  l.sort()\n",
        "  s = \"-\".join(l)\n",
        "  return s"
      ],
      "metadata": {
        "id": "AAts2m5zGwiQ"
      },
      "execution_count": 18,
      "outputs": []
    },
    {
      "cell_type": "code",
      "source": [
        "str_sep(string)"
      ],
      "metadata": {
        "id": "J11nZZQg6Fjw",
        "outputId": "a1b92721-4143-482c-82e7-e743acb721a9",
        "colab": {
          "base_uri": "https://localhost:8080/",
          "height": 36
        }
      },
      "execution_count": 19,
      "outputs": [
        {
          "output_type": "execute_result",
          "data": {
            "text/plain": [
              "'black-green-red-white-yellow'"
            ],
            "application/vnd.google.colaboratory.intrinsic+json": {
              "type": "string"
            }
          },
          "metadata": {},
          "execution_count": 19
        }
      ]
    },
    {
      "cell_type": "markdown",
      "source": [
        "### **`Problem 3:`** Write a Python function that accepts a string and calculate the number of upper case letters and lower case letters.\n",
        "\n",
        "```\n",
        "Sample String : 'CampusX is an Online Mentorship Program fOr EnginEering studentS.'\n",
        "Expected Output :\n",
        "No. of Upper case characters :  9\n",
        "No. of Lower case Characters :  47\n",
        "```"
      ],
      "metadata": {
        "id": "IRGH62S7Gx_n"
      }
    },
    {
      "cell_type": "code",
      "source": [
        "# Write code here\n",
        "\n",
        "string = 'CampusX is an Online Mentorship Program fOr EnginEering studentS.'\n",
        "def char_count(s):\n",
        "  u_count =0\n",
        "  l_count =0\n",
        "  for i in s:\n",
        "    if i.isupper():\n",
        "      u_count += 1\n",
        "    elif  i.islower():\n",
        "      l_count += 1\n",
        "  print(\"No. of Upper case characters :\",u_count)\n",
        "  print(\"No. of Lower case Characters :\",l_count)\n",
        "  return"
      ],
      "metadata": {
        "id": "OaUrD8vVG5o8"
      },
      "execution_count": 20,
      "outputs": []
    },
    {
      "cell_type": "code",
      "source": [
        "char_count(string)"
      ],
      "metadata": {
        "id": "bS9ZKl6O8x-s",
        "outputId": "20bbbd0c-9d8d-49bf-90e9-2175650507d6",
        "colab": {
          "base_uri": "https://localhost:8080/"
        }
      },
      "execution_count": 21,
      "outputs": [
        {
          "output_type": "stream",
          "name": "stdout",
          "text": [
            "No. of Upper case characters : 9\n",
            "No. of Lower case Characters : 47\n"
          ]
        }
      ]
    },
    {
      "cell_type": "markdown",
      "source": [
        "### **`Problem 4:`** Write a Python program to print the even numbers from a given list.\n",
        "```\n",
        "Sample List : [1, 2, 3, 4, 5, 6, 7, 8, 9]\n",
        "Expected Result : [2, 4, 6, 8]\n",
        "```"
      ],
      "metadata": {
        "id": "V1BFFdYQG7Sn"
      }
    },
    {
      "cell_type": "code",
      "source": [
        "# Write code here\n",
        "s_List = [1, 2, 3, 4, 5, 6, 7, 8, 9]\n",
        "\n",
        "def e_list(l):\n",
        "  res =[]\n",
        "  for i in l:\n",
        "    if i%2==0:\n",
        "      res.append(i)\n",
        "  return res"
      ],
      "metadata": {
        "id": "VvAReLoDG_Z3"
      },
      "execution_count": 25,
      "outputs": []
    },
    {
      "cell_type": "code",
      "source": [
        "e_list(s_List)"
      ],
      "metadata": {
        "id": "kSwMVYzt-E5J",
        "outputId": "2834a2e8-7ec0-458a-ba73-111d2477a7a4",
        "colab": {
          "base_uri": "https://localhost:8080/"
        }
      },
      "execution_count": 26,
      "outputs": [
        {
          "output_type": "execute_result",
          "data": {
            "text/plain": [
              "[2, 4, 6, 8]"
            ]
          },
          "metadata": {},
          "execution_count": 26
        }
      ]
    },
    {
      "cell_type": "markdown",
      "source": [
        "### **`Problem 5:`** Write a Python function to check whether a number is perfect or not.\n",
        "\n",
        "A Perfect number is a number that is half the sum of all of its positive divisors (including itself).\n",
        "\n",
        "Example :\n",
        "\n",
        "```\n",
        "The first perfect number is 6, because 1, 2, and 3 are its proper positive divisors, and 1 + 2 + 3 = 6.\n",
        "Equivalently, the number 6 is equal to half the sum of all its positive divisors: ( 1 + 2 + 3 + 6 ) / 2 = 6.\n",
        "\n",
        "The next perfect number is 28 = 1 + 2 + 4 + 7 + 14. This is followed by the perfect numbers 496 and 8128.\n",
        "```\n"
      ],
      "metadata": {
        "id": "qrK39Gn-HHb4"
      }
    },
    {
      "cell_type": "code",
      "source": [
        "# Write code here\n",
        "def per_num(n):\n",
        "  sum = 0\n",
        "  for i in range(1,n):\n",
        "    if n%i==0:\n",
        "      sum +=i\n",
        "  if sum == n:\n",
        "    return \"perfect numbe \"\n",
        "  else:\n",
        "    return \"not a perfect number \"\n"
      ],
      "metadata": {
        "id": "P-OI7H78HICs"
      },
      "execution_count": 29,
      "outputs": []
    },
    {
      "cell_type": "code",
      "source": [
        "per_num(46)"
      ],
      "metadata": {
        "id": "9X9ueSa-BexL",
        "outputId": "6c508b88-3a06-4038-8223-e311ca0526ac",
        "colab": {
          "base_uri": "https://localhost:8080/",
          "height": 36
        }
      },
      "execution_count": 33,
      "outputs": [
        {
          "output_type": "execute_result",
          "data": {
            "text/plain": [
              "'not a perfect number '"
            ],
            "application/vnd.google.colaboratory.intrinsic+json": {
              "type": "string"
            }
          },
          "metadata": {},
          "execution_count": 33
        }
      ]
    },
    {
      "cell_type": "markdown",
      "source": [
        "### **`Problem-6:`** Write a Python function to concatenate any no of dictionaries to create a new one.\n",
        "\n",
        "```\n",
        "Sample Dictionary :\n",
        "dic1={1:10, 2:20}\n",
        "dic2={3:30, 4:40}\n",
        "dic3={5:50,6:60}\n",
        "Expected Result : {1: 10, 2: 20, 3: 30, 4: 40, 5: 50, 6: 60}\n",
        "```"
      ],
      "metadata": {
        "id": "oZdpcG77HO-6"
      }
    },
    {
      "cell_type": "code",
      "source": [
        "# Write code here\n",
        "def Con_dec(*args):\n",
        "  dec = dict()\n",
        "  for i in args:\n",
        "    for key,value in i.items():\n",
        "      dec[key]=value\n",
        "  return dec"
      ],
      "metadata": {
        "id": "LQgfAY4ZHPhj"
      },
      "execution_count": 46,
      "outputs": []
    },
    {
      "cell_type": "code",
      "source": [
        "dic1={1:10, 2:20}\n",
        "dic2={3:30, 4:40}\n",
        "dic3={5:50,6:60}\n",
        "\n",
        "Con_dec(dic1,dic2,dic3)"
      ],
      "metadata": {
        "id": "1MlfSUTPC2E-",
        "outputId": "c9638c79-ef82-431c-da1e-678c225793b4",
        "colab": {
          "base_uri": "https://localhost:8080/"
        }
      },
      "execution_count": 47,
      "outputs": [
        {
          "output_type": "execute_result",
          "data": {
            "text/plain": [
              "{1: 10, 2: 20, 3: 30, 4: 40, 5: 50, 6: 60}"
            ]
          },
          "metadata": {},
          "execution_count": 47
        }
      ]
    },
    {
      "cell_type": "markdown",
      "source": [
        "`Problem-7` Write a python function that accepts a string as input and returns the word with most occurence.\n",
        "\n",
        "```\n",
        "Input:\n",
        "hello how are you i am fine thank you\n",
        "```\n",
        "\n",
        "```\n",
        "Output\n",
        "you -> 2\n",
        "```"
      ],
      "metadata": {
        "id": "jQ6SzbCkHRd0"
      }
    },
    {
      "cell_type": "code",
      "source": [
        "# Write code heres\n",
        "s = \"hello how are you i am fine thank you\"\n",
        "\n",
        "def max_count(s):\n",
        "  l = s.split()\n",
        "  dic = dict()\n",
        "  for i in l:\n",
        "    n = l.count(i)\n",
        "    idx = l.index(i)\n",
        "    dic[n]=l[idx]\n",
        "  print(dic[max(dic.keys())],\"->\",max(dic.keys()))\n",
        "  return\n"
      ],
      "metadata": {
        "id": "Lh04JHLzIW7Z"
      },
      "execution_count": 60,
      "outputs": []
    },
    {
      "cell_type": "code",
      "source": [
        "max_count(s)"
      ],
      "metadata": {
        "id": "uzwJuxZ3OARk",
        "outputId": "c59dc0ca-cc6b-4913-8047-3aceaca70bd8",
        "colab": {
          "base_uri": "https://localhost:8080/"
        }
      },
      "execution_count": 61,
      "outputs": [
        {
          "output_type": "stream",
          "name": "stdout",
          "text": [
            "you -> 2\n"
          ]
        }
      ]
    },
    {
      "cell_type": "markdown",
      "source": [
        "`Problem-8` Write a python function that receives a list of integers and prints out a histogram of bin size 10\n",
        "\n",
        "```\n",
        "Input:\n",
        "[13,42,15,37,22,39,41,50]\n",
        "```\n",
        "\n",
        "```\n",
        "Output:\n",
        "{11-20:2,21-30:1,31-40:2,41-50:3}\n",
        "```"
      ],
      "metadata": {
        "id": "1r8SpVntI-IW"
      }
    },
    {
      "cell_type": "code",
      "source": [
        "# Write code here\n",
        "\n",
        "list1 = [13,42,15,37,22,39,41,50]\n",
        "\n",
        "def histogram(l):\n",
        "  dic = dict()\n",
        "  lis = [0,0,0,0,0]\n",
        "  for i in l:\n",
        "    if i>0 and i<11:\n",
        "      lis[0] +=1\n",
        "    elif i>10 and i<21:\n",
        "      lis[1] +=1\n",
        "    elif i>20 and i<31:\n",
        "      lis[2] +=1\n",
        "    if i>30 and i<41:\n",
        "      lis[3] +=1\n",
        "    if i>40 and i<51:\n",
        "      lis[4] +=1\n",
        "  dic['0-10']=lis[0]\n",
        "  dic['11-20']=lis[1]\n",
        "  dic['21-30']=lis[2]\n",
        "  dic['31-40']=lis[3]\n",
        "  dic['41-50']=lis[4]\n",
        "\n",
        "  return dic\n",
        "\n"
      ],
      "metadata": {
        "id": "7W0J8rUjJovg"
      },
      "execution_count": 11,
      "outputs": []
    },
    {
      "cell_type": "code",
      "source": [
        "histogram(list1)"
      ],
      "metadata": {
        "id": "wuT58UR6vZV5",
        "outputId": "c9be9a1a-a9fa-411b-a615-28b73ac4ce47",
        "colab": {
          "base_uri": "https://localhost:8080/"
        }
      },
      "execution_count": 12,
      "outputs": [
        {
          "output_type": "execute_result",
          "data": {
            "text/plain": [
              "{'0-10': 0, '11-20': 2, '21-30': 1, '31-40': 2, '41-50': 3}"
            ]
          },
          "metadata": {},
          "execution_count": 12
        }
      ]
    },
    {
      "cell_type": "markdown",
      "source": [
        "`Problem-9` Write a python function that accepts a list of 2D co-ordinates and a query point, and then finds the the co-ordinate which is closest in terms of distance from the query point.\n",
        "\n",
        "```\n",
        "List of Coordinates\n",
        "[(1,1),(2,2),(3,3),(4,4)]\n",
        "Query Point\n",
        "(0,0)\n",
        "```\n",
        "\n",
        "```\n",
        "Output\n",
        "Nearest to (0,0) is (1,1)\n",
        "```"
      ],
      "metadata": {
        "id": "1P2-rbgXKE53"
      }
    },
    {
      "cell_type": "code",
      "source": [
        "# Write code here\n",
        "l = [(1,1),(2,2),(3,3),(4,4)]\n",
        "q = [0,0]\n",
        "import math\n",
        "def close_dis(l,q):\n",
        "  m=float('inf')\n",
        "  result = None\n",
        "  for i in l:\n",
        "    dis = math.sqrt((q[1]-i[1])**2 + (q[0]-i[0])**2)\n",
        "    if m < dis:\n",
        "      continue\n",
        "    elif m > dis:\n",
        "      m = dis\n",
        "      result = i\n",
        "  return result"
      ],
      "metadata": {
        "id": "zjn7vSTIJ81G"
      },
      "execution_count": 54,
      "outputs": []
    },
    {
      "cell_type": "code",
      "source": [
        "close_dis(l,q)"
      ],
      "metadata": {
        "id": "YBME3pSd0gem",
        "outputId": "1b16c84e-1722-4356-b66c-7edf1e017f09",
        "colab": {
          "base_uri": "https://localhost:8080/"
        }
      },
      "execution_count": 55,
      "outputs": [
        {
          "output_type": "execute_result",
          "data": {
            "text/plain": [
              "(1, 1)"
            ]
          },
          "metadata": {},
          "execution_count": 55
        }
      ]
    },
    {
      "cell_type": "markdown",
      "source": [
        "`Problem-10`:Write a python program that receives a list of strings and performs bag of word operation on those strings\n",
        "\n",
        "https://en.wikipedia.org/wiki/Bag-of-words_model"
      ],
      "metadata": {
        "id": "i-B6igmyK9hB"
      }
    },
    {
      "cell_type": "code",
      "source": [
        "# Write code here\n",
        "str1 = input(\"enter your pragraphs \")\n",
        "\n",
        "list1 = str1.split()\n",
        "\n",
        "def BOW(l):\n",
        "  dic = dict()\n",
        "  for i in l:\n",
        "    count = l.count(i)\n",
        "    dic[i]=count\n",
        "\n",
        "  return dic\n",
        "\n",
        "\n",
        "\n"
      ],
      "metadata": {
        "id": "N2l1_AWULT-z",
        "outputId": "7ca7465b-fe1b-4870-f692-d2bb41749866",
        "colab": {
          "base_uri": "https://localhost:8080/"
        }
      },
      "execution_count": 7,
      "outputs": [
        {
          "name": "stdout",
          "output_type": "stream",
          "text": [
            "enter your pragraphs A \"Bag of Words\" (BoW) is a fundamental concept in natural language processing and text analysis. It is a simple and intuitive representation used to describe the content of a text by treating it as a collection of individual words, disregarding grammar and word order but keeping multiplicity. Each word in the text is treated as a feature, and the frequency of each word is recorded, forming a \"bag\" that represents the text. This method is commonly used in tasks like document classification, sentiment analysis, and information retrieval. Although it ignores the context and sequence of words, the BoW model provides a robust and efficient way to convert textual data into a numerical form that machine learning algorithms can easily process.\n"
          ]
        }
      ]
    },
    {
      "cell_type": "code",
      "source": [
        "list2 = [\"John\",\"likes\",\"to\",\"watch\",\"movies\",\"Mary\",\"likes\",\"movies\",\"too\"]\n",
        "BOW(list2)\n"
      ],
      "metadata": {
        "id": "L1L5dp1AKolg",
        "outputId": "6c4c1292-efa0-4631-a720-2b09d4da5259",
        "colab": {
          "base_uri": "https://localhost:8080/"
        }
      },
      "execution_count": 9,
      "outputs": [
        {
          "output_type": "execute_result",
          "data": {
            "text/plain": [
              "{'John': 1, 'likes': 2, 'to': 1, 'watch': 1, 'movies': 2, 'Mary': 1, 'too': 1}"
            ]
          },
          "metadata": {},
          "execution_count": 9
        }
      ]
    },
    {
      "cell_type": "markdown",
      "source": [
        "###`Problem 11:` Write a Python program to add three given lists using Python map and lambda."
      ],
      "metadata": {
        "id": "dHTRKb-DqMLw"
      }
    },
    {
      "cell_type": "code",
      "source": [
        "# Write code here\n",
        "l3 = [11,12,13,14,15]\n",
        "l1 = [1,2,3,4,5]\n",
        "l2 = [6,7,8,9,10]\n",
        "a = lambda l1,l2,l3:l1+l2+l3\n",
        "\n",
        "\n",
        "\n"
      ],
      "metadata": {
        "id": "AGFIXaFgf1B3"
      },
      "execution_count": 26,
      "outputs": []
    },
    {
      "cell_type": "code",
      "source": [
        "a(l1,l2,l3)"
      ],
      "metadata": {
        "id": "VM5OpIw0xJNU",
        "outputId": "b57fcbad-c3e5-4478-f198-c824f521bde4",
        "colab": {
          "base_uri": "https://localhost:8080/"
        }
      },
      "execution_count": 27,
      "outputs": [
        {
          "output_type": "execute_result",
          "data": {
            "text/plain": [
              "[1, 2, 3, 4, 5, 6, 7, 8, 9, 10, 11, 12, 13, 14, 15]"
            ]
          },
          "metadata": {},
          "execution_count": 27
        }
      ]
    },
    {
      "cell_type": "markdown",
      "source": [
        "###`Problem-12:`Write a Python program to create a list containing the power of said number in bases raised to the corresponding number in the index using Python map.\n",
        "`Input:`\n",
        "```\n",
        "list1 = [1,2,3,4,5,6]\n",
        "```\n",
        "`Output:`\n",
        "```\n",
        "[1,2,9,64,625,-]\n",
        "```\n"
      ],
      "metadata": {
        "id": "MgHP7mbUqO8l"
      }
    },
    {
      "cell_type": "code",
      "source": [
        "list1 = [1,2,3,4,5,6]\n",
        "\n",
        "\n",
        "\n",
        "def power(list1):\n",
        "  l = []\n",
        "  l.append(list1[0])\n",
        "  for i in range(1,len(list1)-1):\n",
        "    l.append(list1[i]**list1[i-1])\n",
        "  l.append('-')\n",
        "\n",
        "  return l"
      ],
      "metadata": {
        "id": "aOnAYBA1zNe2"
      },
      "execution_count": 7,
      "outputs": []
    },
    {
      "cell_type": "code",
      "source": [
        "power(list1)"
      ],
      "metadata": {
        "id": "IMNcexRtHAbx",
        "outputId": "3e9504ed-fe91-4e43-b4e6-5708f07736be",
        "colab": {
          "base_uri": "https://localhost:8080/"
        }
      },
      "execution_count": 8,
      "outputs": [
        {
          "output_type": "execute_result",
          "data": {
            "text/plain": [
              "[1, 2, 9, 64, 625, '-']"
            ]
          },
          "metadata": {},
          "execution_count": 8
        }
      ]
    },
    {
      "cell_type": "markdown",
      "source": [
        "###`Problem-13` Using filter() and list() functions and .lower() method filter all the vowels in a given string.\n",
        "\n"
      ],
      "metadata": {
        "id": "G26SYq6vqdLN"
      }
    },
    {
      "cell_type": "code",
      "source": [
        "# Write code here\n",
        "\n",
        "s = input(\"enter sentence \")\n",
        "\n",
        "s = s.lower()\n",
        "l = list(s)\n",
        "\n",
        "list(filter(lambda i:i in \"aeiou\",l))"
      ],
      "metadata": {
        "id": "zurga3DIqmEx",
        "outputId": "8fff6a0d-749a-4832-f229-dd59c94093ff",
        "colab": {
          "base_uri": "https://localhost:8080/"
        }
      },
      "execution_count": 17,
      "outputs": [
        {
          "name": "stdout",
          "output_type": "stream",
          "text": [
            "enter sentence function\n"
          ]
        },
        {
          "output_type": "execute_result",
          "data": {
            "text/plain": [
              "['u', 'i', 'o']"
            ]
          },
          "metadata": {},
          "execution_count": 17
        }
      ]
    },
    {
      "cell_type": "markdown",
      "source": [
        "`Problem-14`: Use reduce to convert a 2D list to 1D"
      ],
      "metadata": {
        "id": "uQrsunZSqoYu"
      }
    },
    {
      "cell_type": "code",
      "source": [
        "# Write code here\n",
        "l = [[1,2,3],[4,5,6]]\n",
        "import functools\n",
        "list(functools.reduce(lambda x,y :x+y,l))"
      ],
      "metadata": {
        "id": "E1YUwnfgqnka",
        "outputId": "83eb40a9-80e5-4bf5-b73d-67618ef53e0d",
        "colab": {
          "base_uri": "https://localhost:8080/"
        }
      },
      "execution_count": 21,
      "outputs": [
        {
          "output_type": "execute_result",
          "data": {
            "text/plain": [
              "[1, 2, 3, 4, 5, 6]"
            ]
          },
          "metadata": {},
          "execution_count": 21
        }
      ]
    },
    {
      "cell_type": "markdown",
      "source": [
        "`Problem 15`- A dictionary contains following information about 5 employees:\n",
        "- First name\n",
        "- Last name\n",
        "- Age\n",
        "- Grade(Skilled,Semi-skilled,Highly skilled)<br>\n",
        "Write a program using map/filter/reduce to a list of employees(first name + last name) who are highly skilled"
      ],
      "metadata": {
        "id": "8-DLQEawt-_t"
      }
    },
    {
      "cell_type": "code",
      "source": [
        "# Write code here\n",
        "employees = [\n",
        "    {\n",
        "        'fname':'Nitish',\n",
        "        'lname':'Singh',\n",
        "        'age' : 33,\n",
        "        'grade':'skilled'\n",
        "    },\n",
        "    {\n",
        "        'fname':'Ankit',\n",
        "        'lname':'Verma',\n",
        "        'age' : 34,\n",
        "        'grade':'semi-skilled'\n",
        "    },\n",
        "    {\n",
        "        'fname':'Neha',\n",
        "        'lname':'Singh',\n",
        "        'age' : 35,\n",
        "        'grade':'highly-skilled'\n",
        "    },\n",
        "    {\n",
        "        'fname':'Anurag',\n",
        "        'lname':'Kumar',\n",
        "        'age' : 30,\n",
        "        'grade':'skilled'\n",
        "    },\n",
        "    {\n",
        "        'fname':'Abhinav',\n",
        "        'lname':'Sharma',\n",
        "        'age' : 37,\n",
        "        'grade':'highly-skilled'\n",
        "    }\n",
        "\n",
        "]"
      ],
      "metadata": {
        "id": "OLvptttLs6OU"
      },
      "execution_count": 22,
      "outputs": []
    },
    {
      "cell_type": "code",
      "source": [
        "list(map(lambda x:x['fname'] + ' ' + x['lname'],list(filter(lambda x:True if x['grade'] == 'highly-skilled' else False,employees))))"
      ],
      "metadata": {
        "id": "vLX0FAQkui3y",
        "colab": {
          "base_uri": "https://localhost:8080/"
        },
        "outputId": "e7d50543-c30e-4a20-c793-756f5a435df7"
      },
      "execution_count": null,
      "outputs": [
        {
          "output_type": "execute_result",
          "data": {
            "text/plain": [
              "['Neha Singh', 'Abhinav Sharma']"
            ]
          },
          "metadata": {},
          "execution_count": 17
        }
      ]
    },
    {
      "cell_type": "code",
      "source": [
        "l =list(filter(lambda x : True if x['grade']==\"highly-skilled\" else False , employees ))"
      ],
      "metadata": {
        "id": "ldMjGfkgAMr9"
      },
      "execution_count": 28,
      "outputs": []
    },
    {
      "cell_type": "code",
      "source": [
        "list(map(lambda x:x[\"fname\"] + x[\"lname\"] , l))"
      ],
      "metadata": {
        "id": "7RJ2PtteRvjl",
        "outputId": "5c2e03c3-89cc-43f3-e7d6-fc8294a66130",
        "colab": {
          "base_uri": "https://localhost:8080/"
        }
      },
      "execution_count": 29,
      "outputs": [
        {
          "output_type": "execute_result",
          "data": {
            "text/plain": [
              "['NehaSingh', 'AbhinavSharma']"
            ]
          },
          "metadata": {},
          "execution_count": 29
        }
      ]
    },
    {
      "cell_type": "code",
      "source": [],
      "metadata": {
        "id": "TsJvb_USSCyO"
      },
      "execution_count": null,
      "outputs": []
    }
  ]
}